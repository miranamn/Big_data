{
  "nbformat": 4,
  "nbformat_minor": 0,
  "metadata": {
    "colab": {
      "provenance": []
    },
    "kernelspec": {
      "name": "python3",
      "display_name": "Python 3"
    },
    "language_info": {
      "name": "python"
    }
  },
  "cells": [
    {
      "cell_type": "code",
      "execution_count": null,
      "metadata": {
        "id": "Y869vjiVudlc"
      },
      "outputs": [],
      "source": [
        "!apt-get install openjdk-8-jdk-headless -qq > /dev/null\n",
        "!wget -q http://archive.apache.org/dist/spark/spark-3.1.1/spark-3.1.1-bin-hadoop3.2.tgz\n",
        "!tar xf spark-3.1.1-bin-hadoop3.2.tgz\n",
        "!pip install -q findspark\n",
        "!pip install spark-xml"
      ]
    },
    {
      "cell_type": "code",
      "source": [
        "import os\n",
        "os.environ[\"JAVA_HOME\"] = \"/usr/lib/jvm/java-8-openjdk-amd64\"\n",
        "os.environ[\"SPARK_HOME\"] = \"/content/spark-3.1.1-bin-hadoop3.2\""
      ],
      "metadata": {
        "id": "HluAdr7NxIW_"
      },
      "execution_count": 2,
      "outputs": []
    },
    {
      "cell_type": "code",
      "source": [
        "import findspark\n",
        "\n",
        "findspark.init()\n",
        "\n",
        "import re\n",
        "from typing import List\n",
        "from datetime import datetime\n",
        "import pyspark.sql as sql\n",
        "from pyspark import SparkContext, SparkConf\n",
        "from pyspark.sql import SparkSession\n",
        "from pyspark.sql.window import Window\n",
        "from pyspark.sql.types import StructType, StructField, StringType, DateType\n",
        "from pyspark.sql.functions import udf, explode, rank\n",
        "from pyspark.sql.functions import col, max, sum, desc, countDistinct\n",
        "from pyspark.sql.functions import lower\n",
        "from pyspark.sql.functions import col, split\n",
        "\n",
        "spark = SparkSession \\\n",
        "    .builder \\\n",
        "    .appName(\"L2_reports_with_apache_spark\") \\\n",
        "    .config(\"spark.jars.packages\", \"com.databricks:spark-xml_2.12:0.13.0\")\\\n",
        "    .getOrCreate()\n",
        "\n",
        "spark.conf.set(\"spark.sql.repl.eagerEval.enabled\", True) # Property used to format output tables better\n",
        "spark"
      ],
      "metadata": {
        "colab": {
          "base_uri": "https://localhost:8080/",
          "height": 222
        },
        "id": "saYSqzeWxJ2t",
        "outputId": "7391a3c3-d95f-4f8f-9175-1380cab38906"
      },
      "execution_count": 37,
      "outputs": [
        {
          "output_type": "execute_result",
          "data": {
            "text/plain": [
              "<pyspark.sql.session.SparkSession at 0x7869238853f0>"
            ],
            "text/html": [
              "\n",
              "            <div>\n",
              "                <p><b>SparkSession - in-memory</b></p>\n",
              "                \n",
              "        <div>\n",
              "            <p><b>SparkContext</b></p>\n",
              "\n",
              "            <p><a href=\"http://ec0ee5fc736a:4040\">Spark UI</a></p>\n",
              "\n",
              "            <dl>\n",
              "              <dt>Version</dt>\n",
              "                <dd><code>v3.1.1</code></dd>\n",
              "              <dt>Master</dt>\n",
              "                <dd><code>local[*]</code></dd>\n",
              "              <dt>AppName</dt>\n",
              "                <dd><code>L2_reports_with_apache_spark</code></dd>\n",
              "            </dl>\n",
              "        </div>\n",
              "        \n",
              "            </div>\n",
              "        "
            ]
          },
          "metadata": {},
          "execution_count": 37
        }
      ]
    },
    {
      "cell_type": "code",
      "source": [
        "posts_sample = spark.read \\\n",
        "    .format(\"xml\") \\\n",
        "    .options(rowTag=\"row\") \\\n",
        "    .load('posts_sample.xml')\n"
      ],
      "metadata": {
        "id": "sFwmfdkx_kBP"
      },
      "execution_count": 4,
      "outputs": []
    },
    {
      "cell_type": "code",
      "source": [
        "posts_sample.take(2)"
      ],
      "metadata": {
        "colab": {
          "base_uri": "https://localhost:8080/"
        },
        "id": "ip5vJaSuXSCv",
        "outputId": "0d16eb9e-2374-412c-a42f-d9c7302c747e"
      },
      "execution_count": 5,
      "outputs": [
        {
          "output_type": "execute_result",
          "data": {
            "text/plain": [
              "[Row(_AcceptedAnswerId=7, _AnswerCount=13, _Body=\"<p>I want to use a track-bar to change a form's opacity.</p>\\n\\n<p>This is my code:</p>\\n\\n<pre><code>decimal trans = trackBar1.Value / 5000;\\nthis.Opacity = trans;\\n</code></pre>\\n\\n<p>When I build the application, it gives the following error:</p>\\n\\n<blockquote>\\n  <p>Cannot implicitly convert type <code>'decimal'</code> to <code>'double'</code></p>\\n</blockquote>\\n\\n<p>I tried using <code>trans</code> and <code>double</code> but then the control doesn't work. This code worked fine in a past VB.NET project.</p>\\n\", _ClosedDate=None, _CommentCount=2, _CommunityOwnedDate=datetime.datetime(2012, 10, 31, 16, 42, 47, 213000), _CreationDate=datetime.datetime(2008, 7, 31, 21, 42, 52, 667000), _FavoriteCount=48, _Id=4, _LastActivityDate=datetime.datetime(2019, 7, 19, 1, 39, 54, 173000), _LastEditDate=datetime.datetime(2019, 7, 19, 1, 39, 54, 173000), _LastEditorDisplayName='Rich B', _LastEditorUserId=3641067, _OwnerDisplayName=None, _OwnerUserId=8, _ParentId=None, _PostTypeId=1, _Score=630, _Tags='<c#><floating-point><type-conversion><double><decimal>', _Title='Convert Decimal to Double?', _ViewCount=42817),\n",
              " Row(_AcceptedAnswerId=31, _AnswerCount=6, _Body=\"<p>I have an absolutely positioned <code>div</code> containing several children, one of which is a relatively positioned <code>div</code>. When I use a <code>percentage-based width</code> on the child <code>div</code>, it collapses to <code>0 width</code> on IE7, but not on Firefox or Safari.</p>\\n\\n<p>If I use <code>pixel width</code>, it works. If the parent is relatively positioned, the percentage width on the child works.</p>\\n\\n<ol>\\n<li>Is there something I'm missing here?</li>\\n<li>Is there an easy fix for this besides the <code>pixel-based width</code> on the\\nchild?</li>\\n<li>Is there an area of the CSS specification that covers this?</li>\\n</ol>\\n\", _ClosedDate=None, _CommentCount=0, _CommunityOwnedDate=None, _CreationDate=datetime.datetime(2008, 7, 31, 22, 8, 8, 620000), _FavoriteCount=10, _Id=6, _LastActivityDate=datetime.datetime(2019, 7, 19, 1, 43, 4, 77000), _LastEditDate=datetime.datetime(2019, 7, 19, 1, 43, 4, 77000), _LastEditorDisplayName='Rich B', _LastEditorUserId=3641067, _OwnerDisplayName=None, _OwnerUserId=9, _ParentId=None, _PostTypeId=1, _Score=281, _Tags='<html><css><internet-explorer-7>', _Title='Percentage width child element in absolutely positioned parent on Internet Explorer 7', _ViewCount=18214)]"
            ]
          },
          "metadata": {},
          "execution_count": 5
        }
      ]
    },
    {
      "cell_type": "code",
      "source": [
        "program_lang = spark.read.csv('programming-languages.csv', header=True, sep=\",\")\n",
        "program_lang.show(5)\n",
        "program_lang.printSchema()\n"
      ],
      "metadata": {
        "colab": {
          "base_uri": "https://localhost:8080/"
        },
        "id": "Hm879r-zWOGG",
        "outputId": "3b5093fd-7249-4d08-b9ee-11f1809e8c23"
      },
      "execution_count": 12,
      "outputs": [
        {
          "output_type": "stream",
          "name": "stdout",
          "text": [
            "+----------+--------------------+\n",
            "|      name|       wikipedia_url|\n",
            "+----------+--------------------+\n",
            "|   A# .NET|https://en.wikipe...|\n",
            "|A# (Axiom)|https://en.wikipe...|\n",
            "|A-0 System|https://en.wikipe...|\n",
            "|        A+|https://en.wikipe...|\n",
            "|       A++|https://en.wikipe...|\n",
            "+----------+--------------------+\n",
            "only showing top 5 rows\n",
            "\n",
            "root\n",
            " |-- name: string (nullable = true)\n",
            " |-- wikipedia_url: string (nullable = true)\n",
            "\n"
          ]
        }
      ]
    },
    {
      "cell_type": "code",
      "source": [
        "#преобразуем в список для более удобного поиска\n",
        "\n",
        "all_languages = program_lang.select(\"name\") \\\n",
        "    .rdd.map(lambda lang: lang[0]) \\\n",
        "    .map(lambda lang: str(lang)) \\\n",
        "    .map(lambda lang: lang.lower()) \\\n",
        "    .collect()"
      ],
      "metadata": {
        "id": "KlYYw7PbemN_"
      },
      "execution_count": 31,
      "outputs": []
    },
    {
      "cell_type": "code",
      "source": [
        "# обработка постов и поиск языков из списка\n",
        "yearLanguageTags = posts_sample.rdd \\\n",
        "    .map(lambda row: (row[6], row[18])) \\\n",
        "    .filter(lambda row: row[0] is not None and row[1] is not None) \\\n",
        "    .map(lambda row: (str(row[0]), str(row[1]))) \\\n",
        "    .map(lambda row: (row[0][:4], row[1].split(\">\"))) \\\n",
        "    .flatMap(lambda row: [(row[0], tag.replace(\"<\", \"\")) for tag in row[1]]) \\\n",
        "    .filter(lambda row: row[1] in all_languages)\n",
        "\n",
        "#создание отчета для каждого года\n",
        "years = list(map(str, range(2010, 2021)))\n",
        "report = []\n",
        "for reportYear in years:\n",
        "    yearReport = yearLanguageTags.filter(lambda row: row[0] == reportYear) \\\n",
        "        .map(lambda row: (row[1], 1)) \\\n",
        "        .reduceByKey(lambda x, y: x + y) \\\n",
        "        .map(lambda row: (reportYear, row[0], row[1])) \\\n",
        "        .sortBy(lambda row: row[2], ascending=False) \\\n",
        "        .take(10)\n",
        "    report.extend(yearReport)\n",
        "\n",
        "finalReport = spark.createDataFrame(report, [\"Year\", \"Language\", \"Mention_count\"])\n",
        "finalReport.show()"
      ],
      "metadata": {
        "colab": {
          "base_uri": "https://localhost:8080/"
        },
        "id": "PpOyhYVTc9u3",
        "outputId": "f29ac9a6-743d-4288-b8d9-4663531ecad1"
      },
      "execution_count": 50,
      "outputs": [
        {
          "output_type": "stream",
          "name": "stdout",
          "text": [
            "+----+-----------+-------------+\n",
            "|Year|   Language|Mention_count|\n",
            "+----+-----------+-------------+\n",
            "|2010|       java|           52|\n",
            "|2010|        php|           46|\n",
            "|2010| javascript|           44|\n",
            "|2010|     python|           26|\n",
            "|2010|objective-c|           23|\n",
            "|2010|          c|           20|\n",
            "|2010|       ruby|           12|\n",
            "|2010|     delphi|            8|\n",
            "|2010|applescript|            3|\n",
            "|2010|          r|            3|\n",
            "|2011|        php|          102|\n",
            "|2011|       java|           93|\n",
            "|2011| javascript|           83|\n",
            "|2011|     python|           37|\n",
            "|2011|objective-c|           34|\n",
            "|2011|          c|           24|\n",
            "|2011|       ruby|           20|\n",
            "|2011|       perl|            9|\n",
            "|2011|     delphi|            8|\n",
            "|2011|       bash|            7|\n",
            "+----+-----------+-------------+\n",
            "only showing top 20 rows\n",
            "\n"
          ]
        }
      ]
    },
    {
      "cell_type": "code",
      "source": [
        "finalReport.write.format(\"parquet\").save(\"lang_report\")"
      ],
      "metadata": {
        "id": "3Yh0UP6DrOeD"
      },
      "execution_count": 49,
      "outputs": []
    }
  ]
}