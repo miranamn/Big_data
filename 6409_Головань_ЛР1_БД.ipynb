{
  "cells": [
    {
      "cell_type": "markdown",
      "metadata": {
        "id": "HyPkTVk6oEV3"
      },
      "source": [
        "Spark лабораторные могут выполняться в Google Colab, наподобие того, как это сделано здесь https://colab.research.google.com/drive/1G894WS7ltIUTusWWmsCnF_zQhQqZCDOc."
      ]
    },
    {
      "cell_type": "code",
      "execution_count": 1,
      "metadata": {
        "id": "75FYErBRD_2j"
      },
      "outputs": [],
      "source": [
        "!apt-get install openjdk-8-jdk-headless -qq > /dev/null\n",
        "!wget -q http://archive.apache.org/dist/spark/spark-3.1.1/spark-3.1.1-bin-hadoop3.2.tgz\n",
        "!tar xf spark-3.1.1-bin-hadoop3.2.tgz\n",
        "!pip install -q findspark"
      ]
    },
    {
      "cell_type": "code",
      "execution_count": 2,
      "metadata": {
        "id": "RZJsqHtCSFXK"
      },
      "outputs": [],
      "source": [
        "import os\n",
        "os.environ[\"JAVA_HOME\"] = \"/usr/lib/jvm/java-8-openjdk-amd64\"\n",
        "os.environ[\"SPARK_HOME\"] = \"/content/spark-3.1.1-bin-hadoop3.2\""
      ]
    },
    {
      "cell_type": "code",
      "execution_count": 3,
      "metadata": {
        "colab": {
          "base_uri": "https://localhost:8080/",
          "height": 222
        },
        "id": "vC_Vknv4SIvU",
        "outputId": "014e97c9-ecca-4633-f0c9-dd4c11e8466c"
      },
      "outputs": [
        {
          "output_type": "execute_result",
          "data": {
            "text/plain": [
              "<pyspark.sql.session.SparkSession at 0x7f9baff37220>"
            ],
            "text/html": [
              "\n",
              "            <div>\n",
              "                <p><b>SparkSession - in-memory</b></p>\n",
              "                \n",
              "        <div>\n",
              "            <p><b>SparkContext</b></p>\n",
              "\n",
              "            <p><a href=\"http://3de7ab1c4d45:4040\">Spark UI</a></p>\n",
              "\n",
              "            <dl>\n",
              "              <dt>Version</dt>\n",
              "                <dd><code>v3.1.1</code></dd>\n",
              "              <dt>Master</dt>\n",
              "                <dd><code>local[*]</code></dd>\n",
              "              <dt>AppName</dt>\n",
              "                <dd><code>pyspark-shell</code></dd>\n",
              "            </dl>\n",
              "        </div>\n",
              "        \n",
              "            </div>\n",
              "        "
            ]
          },
          "metadata": {},
          "execution_count": 3
        }
      ],
      "source": [
        "import findspark\n",
        "\n",
        "findspark.init()\n",
        "\n",
        "from pyspark import SparkContext, SparkConf\n",
        "from pyspark.sql import SparkSession\n",
        "import pyspark.sql as sql\n",
        "from pyspark.sql.types import DoubleType\n",
        "from pyspark.sql.functions import udf, col, max, sum, countDistinct\n",
        "from math import sin, cos, sqrt, atan2, radians\n",
        "\n",
        "spark = SparkSession.builder.master(\"local[*]\").getOrCreate()\n",
        "spark.conf.set(\"spark.sql.repl.eagerEval.enabled\", True) # Property used to format output tables better\n",
        "spark"
      ]
    },
    {
      "cell_type": "markdown",
      "metadata": {
        "id": "U-Ry4wqxoQTh"
      },
      "source": [
        "Загрузка и просмотр данных"
      ]
    },
    {
      "cell_type": "code",
      "execution_count": 5,
      "metadata": {
        "colab": {
          "base_uri": "https://localhost:8080/"
        },
        "id": "ATbbcv6TPHyb",
        "outputId": "78caf48f-36aa-4a34-ef5b-da552cdb4775"
      },
      "outputs": [
        {
          "output_type": "stream",
          "name": "stdout",
          "text": [
            "+----+--------+---------------+--------------------+----------------+---------------+--------------------+--------------+-------+-----------------+--------+\n",
            "|  id|duration|     start_date|  start_station_name|start_station_id|       end_date|    end_station_name|end_station_id|bike_id|subscription_type|zip_code|\n",
            "+----+--------+---------------+--------------------+----------------+---------------+--------------------+--------------+-------+-----------------+--------+\n",
            "|4576|      63|           null|South Van Ness at...|              66|8/29/2013 14:14|South Van Ness at...|            66|    520|       Subscriber|   94127|\n",
            "|4607|    null|8/29/2013 14:42|  San Jose City Hall|              10|8/29/2013 14:43|  San Jose City Hall|            10|    661|       Subscriber|   95138|\n",
            "|4130|      71|8/29/2013 10:16|Mountain View Cit...|              27|8/29/2013 10:17|Mountain View Cit...|            27|     48|       Subscriber|   97214|\n",
            "|4251|      77|8/29/2013 11:29|  San Jose City Hall|              10|8/29/2013 11:30|  San Jose City Hall|            10|     26|       Subscriber|   95060|\n",
            "|4299|      83|8/29/2013 12:02|South Van Ness at...|              66|8/29/2013 12:04|      Market at 10th|            67|    319|       Subscriber|   94103|\n",
            "+----+--------+---------------+--------------------+----------------+---------------+--------------------+--------------+-------+-----------------+--------+\n",
            "only showing top 5 rows\n",
            "\n",
            "root\n",
            " |-- id: string (nullable = true)\n",
            " |-- duration: string (nullable = true)\n",
            " |-- start_date: string (nullable = true)\n",
            " |-- start_station_name: string (nullable = true)\n",
            " |-- start_station_id: string (nullable = true)\n",
            " |-- end_date: string (nullable = true)\n",
            " |-- end_station_name: string (nullable = true)\n",
            " |-- end_station_id: string (nullable = true)\n",
            " |-- bike_id: string (nullable = true)\n",
            " |-- subscription_type: string (nullable = true)\n",
            " |-- zip_code: string (nullable = true)\n",
            "\n"
          ]
        }
      ],
      "source": [
        "trips_df = spark.read.csv('trips.csv', header=True, sep=\",\")\n",
        "trips_df.show(5)\n",
        "trips_df.printSchema()"
      ]
    },
    {
      "cell_type": "code",
      "execution_count": 4,
      "metadata": {
        "colab": {
          "base_uri": "https://localhost:8080/"
        },
        "id": "fM2UjzgrPQRr",
        "outputId": "078b2710-f61a-4f8c-d591-84d2ba00ed5e"
      },
      "outputs": [
        {
          "output_type": "stream",
          "name": "stdout",
          "text": [
            "+---+--------------------+------------------+-------------------+----------+--------+-----------------+\n",
            "| id|                name|               lat|               long|dock_count|    city|installation_date|\n",
            "+---+--------------------+------------------+-------------------+----------+--------+-----------------+\n",
            "|  2|San Jose Diridon ...|         37.329732|-121.90178200000001|        27|San Jose|         8/6/2013|\n",
            "|  3|San Jose Civic Ce...|         37.330698|        -121.888979|        15|San Jose|         8/5/2013|\n",
            "|  4|Santa Clara at Al...|         37.333988|        -121.894902|        11|San Jose|         8/6/2013|\n",
            "|  5|    Adobe on Almaden|         37.331415|          -121.8932|        19|San Jose|         8/5/2013|\n",
            "|  6|    San Pedro Square|37.336721000000004|        -121.894074|        15|San Jose|         8/7/2013|\n",
            "+---+--------------------+------------------+-------------------+----------+--------+-----------------+\n",
            "only showing top 5 rows\n",
            "\n",
            "root\n",
            " |-- id: string (nullable = true)\n",
            " |-- name: string (nullable = true)\n",
            " |-- lat: string (nullable = true)\n",
            " |-- long: string (nullable = true)\n",
            " |-- dock_count: string (nullable = true)\n",
            " |-- city: string (nullable = true)\n",
            " |-- installation_date: string (nullable = true)\n",
            "\n"
          ]
        }
      ],
      "source": [
        "stations_df = spark.read.csv('stations.csv', header=True, sep=\",\")\n",
        "stations_df.show(5)\n",
        "stations_df.printSchema()"
      ]
    },
    {
      "cell_type": "markdown",
      "metadata": {
        "id": "KO_FIG7MEL1Q"
      },
      "source": [
        "**Решите следующие задачи для данных велопарковок Сан-Франциско (trips.csv, stations.csv):**\n",
        "\n",
        "1. Найти велосипед с максимальным временем пробега.\n",
        "2. Найти наибольшее геодезическое расстояние между станциями.\n",
        "3. Найти путь велосипеда с максимальным временем пробега через станции.\n",
        "4. Найти количество велосипедов в системе.\n",
        "5. Найти пользователей потративших на поездки более 3 часов.\n",
        "\n"
      ]
    },
    {
      "cell_type": "code",
      "execution_count": 6,
      "metadata": {
        "colab": {
          "base_uri": "https://localhost:8080/"
        },
        "id": "-rTYQyqaOVrE",
        "outputId": "f3aa59fb-6032-448d-ec73-b6d4c48e2ab9"
      },
      "outputs": [
        {
          "output_type": "stream",
          "name": "stdout",
          "text": [
            "Bike 535 has total duration  18611693.0\n"
          ]
        }
      ],
      "source": [
        "# Найти велосипед с максимальным временем пробега.\n",
        "from pyspark.sql import functions as F\n",
        "\n",
        "#для каждого велосипеда считается суммарное время пробега\n",
        "total_trips_bike = trips_df.groupBy(\"bike_id\").agg(sum(col(\"duration\")).alias(\"total_trips_duration\"))\n",
        "#велосипед с максимальным пробегом\n",
        "bike_max_trips = total_trips_bike.orderBy(F.desc(\"total_trips_duration\")).first()\n",
        "\n",
        "#получение id велосипеда и значение пробега\n",
        "total_id = bike_max_trips[\"bike_id\"]\n",
        "total_duration = bike_max_trips[\"total_trips_duration\"]\n",
        "\n",
        "print(\"Bike\", total_id, \"has total duration \", total_duration)"
      ]
    },
    {
      "cell_type": "code",
      "execution_count": 16,
      "metadata": {
        "colab": {
          "base_uri": "https://localhost:8080/"
        },
        "id": "uUbng8v9ezDF",
        "outputId": "c0132b03-b53b-4467-d401-cddefce08249"
      },
      "outputs": [
        {
          "output_type": "stream",
          "name": "stdout",
          "text": [
            "Максимальное геодезическое расстояние: 69.9428256877473\n"
          ]
        }
      ],
      "source": [
        "#Найти наибольшее геодезическое расстояние между станциями.\n",
        "\n",
        "#функция вычисления геодезического расстояния\n",
        "def geodesic_distance(lat1, lon1, lat2, lon2):\n",
        "    R = 6373.0\n",
        "    lat1 = radians(float(lat1))\n",
        "    lat2 = radians(float(lat2))\n",
        "    lon1 = radians(float(lon1))\n",
        "    lon2 = radians(float(lon2))\n",
        "    dlon = lon2 - lon1\n",
        "    dlat = lat2 - lat1\n",
        "    a = sin(dlat / 2)**2 + cos(lat1) * cos(lat2) * sin(dlon / 2)**2\n",
        "    c = 2 * atan2(sqrt(a), sqrt(1 - a))\n",
        "    distance = R * c\n",
        "    return distance\n",
        "\n",
        "#конвертация в pyspark.sql.functions.udf\n",
        "geodesic_distance_udf = udf(geodesic_distance, DoubleType())\n",
        "\n",
        "#получение всех возможных пар станций\n",
        "station_pairs = stations_df.alias(\"station_1\").crossJoin(stations_df.alias(\"station_2\"))\n",
        "\n",
        "#вычисление расстояния для каждой пары станций\n",
        "station_pairs_with_distance = station_pairs.withColumn(\n",
        "    \"geodesic_distance\",\n",
        "    geodesic_distance_udf(col(\"station_1.lat\"), col(\"station_1.long\"), col(\"station_2.lat\"), col(\"station_2.long\"))\n",
        ")\n",
        "\n",
        "#поиск максимального геодезического расстояния среди всех пар станций\n",
        "max_distance = station_pairs_with_distance.selectExpr(\"max(geodesic_distance) as max_distance\").collect()[0][\"max_distance\"]\n",
        "print(\"Максимальное геодезическое расстояние:\", max_distance)"
      ]
    },
    {
      "cell_type": "code",
      "execution_count": 15,
      "metadata": {
        "colab": {
          "base_uri": "https://localhost:8080/"
        },
        "id": "sHScEbgRi8sq",
        "outputId": "bb5d9e06-fdef-4705-9f73-ea7c2363c47f"
      },
      "outputs": [
        {
          "output_type": "stream",
          "name": "stdout",
          "text": [
            "Самая длинная поездка = 99993 от St James Park до San Pedro Square\n"
          ]
        }
      ],
      "source": [
        "#Найти путь велосипеда с максимальным временем пробега через станции.\n",
        "\n",
        "trip_max_duration = trips_df.select(\"start_station_name\", \"end_station_name\", \"duration\").orderBy(F.desc(\"duration\")).first()\n",
        "\n",
        "start = trip_max_duration[\"start_station_name\"]\n",
        "end = trip_max_duration[\"end_station_name\"]\n",
        "time = trip_max_duration[\"duration\"]\n",
        "\n",
        "print(\"Самая длинная поездка =\", time, \"от\", start,  \"до\", end)"
      ]
    },
    {
      "cell_type": "code",
      "execution_count": 8,
      "metadata": {
        "colab": {
          "base_uri": "https://localhost:8080/"
        },
        "id": "pv1v4rhTjQzt",
        "outputId": "32c93b53-1796-4154-cd6c-0b46c366b79a"
      },
      "outputs": [
        {
          "output_type": "stream",
          "name": "stdout",
          "text": [
            "Всего велосипедов: 700\n"
          ]
        }
      ],
      "source": [
        "#Найти количество велосипедов в системе.\n",
        "\n",
        "#подсчет уникальных id\n",
        "unq_bikes = trips_df.select(\"bike_id\").distinct().count()\n",
        "print(\"Всего велосипедов:\", unq_bikes)"
      ]
    },
    {
      "cell_type": "code",
      "execution_count": 11,
      "metadata": {
        "colab": {
          "base_uri": "https://localhost:8080/"
        },
        "id": "NfARU_-Dmuh7",
        "outputId": "a2dbf2ad-28d7-402f-95e3-a889ced06524"
      },
      "outputs": [
        {
          "output_type": "stream",
          "name": "stdout",
          "text": [
            "+-------+--------------------+\n",
            "|bike_id|total_trips_duration|\n",
            "+-------+--------------------+\n",
            "|    675|            370599.0|\n",
            "|    467|            912341.0|\n",
            "|    296|            486909.0|\n",
            "|    691|            295372.0|\n",
            "|    125|            157947.0|\n",
            "|    451|           1695574.0|\n",
            "|    666|            167414.0|\n",
            "|    124|            365040.0|\n",
            "|    447|           1547611.0|\n",
            "|    591|           2077782.0|\n",
            "|     51|            388170.0|\n",
            "|    574|           1944036.0|\n",
            "|    613|           2409014.0|\n",
            "|    307|            365382.0|\n",
            "|    475|           1165854.0|\n",
            "|    334|           1896004.0|\n",
            "|    544|           1633451.0|\n",
            "|    577|           1637572.0|\n",
            "|    581|           1819832.0|\n",
            "|    205|            154952.0|\n",
            "+-------+--------------------+\n",
            "only showing top 20 rows\n",
            "\n"
          ]
        }
      ],
      "source": [
        "#Найти пользователей потративших на поездки более 3 часов.\n",
        "\n",
        "users_total_time = trips_df.groupBy(\"bike_id\").agg(sum(col(\"duration\")).alias(\"total_trips_duration\"))\n",
        "users_total_time.filter(\"total_trips_duration>10800\").show()"
      ]
    }
  ],
  "metadata": {
    "colab": {
      "provenance": []
    },
    "kernelspec": {
      "display_name": "Python 3",
      "name": "python3"
    },
    "language_info": {
      "name": "python"
    }
  },
  "nbformat": 4,
  "nbformat_minor": 0
}